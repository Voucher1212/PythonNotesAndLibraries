{
 "cells": [
  {
   "cell_type": "code",
   "execution_count": 72,
   "id": "7fc4c313",
   "metadata": {},
   "outputs": [],
   "source": [
    "import numpy as np\n",
    "import pandas as pd"
   ]
  },
  {
   "cell_type": "markdown",
   "id": "3a96ef53",
   "metadata": {},
   "source": [
    "## Variables"
   ]
  },
  {
   "cell_type": "code",
   "execution_count": 73,
   "id": "62a7b9ef",
   "metadata": {},
   "outputs": [
    {
     "data": {
      "text/plain": [
       "int"
      ]
     },
     "execution_count": 73,
     "metadata": {},
     "output_type": "execute_result"
    }
   ],
   "source": [
    "x = 11\n",
    "type(x)"
   ]
  },
  {
   "cell_type": "code",
   "execution_count": 74,
   "id": "6f06ba94",
   "metadata": {},
   "outputs": [
    {
     "name": "stdout",
     "output_type": "stream",
     "text": [
      "Keyuri Palav\n"
     ]
    }
   ],
   "source": [
    "y = 'Keyuri Palav'\n",
    "print(y)"
   ]
  },
  {
   "cell_type": "code",
   "execution_count": 75,
   "id": "2d709de1",
   "metadata": {},
   "outputs": [
    {
     "data": {
      "text/plain": [
       "str"
      ]
     },
     "execution_count": 75,
     "metadata": {},
     "output_type": "execute_result"
    }
   ],
   "source": [
    "type(y)"
   ]
  },
  {
   "cell_type": "code",
   "execution_count": 76,
   "id": "3b0ca5ea",
   "metadata": {},
   "outputs": [],
   "source": [
    "y = 'Keyuri Deokar'\n",
    "\n",
    "Y = \"Ajit Deokar\""
   ]
  },
  {
   "cell_type": "code",
   "execution_count": 77,
   "id": "375c2175",
   "metadata": {},
   "outputs": [
    {
     "name": "stdout",
     "output_type": "stream",
     "text": [
      "Ajit Deokar\n"
     ]
    }
   ],
   "source": [
    "print(Y)"
   ]
  },
  {
   "cell_type": "code",
   "execution_count": 78,
   "id": "c775a1b0",
   "metadata": {},
   "outputs": [
    {
     "name": "stdout",
     "output_type": "stream",
     "text": [
      "Keyuri Deokar\n"
     ]
    }
   ],
   "source": [
    "print(y)"
   ]
  },
  {
   "cell_type": "code",
   "execution_count": 79,
   "id": "8ea75f87",
   "metadata": {},
   "outputs": [],
   "source": [
    "x,y,z = \"Keyuri\", \"Ajit\", 'Ki'"
   ]
  },
  {
   "cell_type": "code",
   "execution_count": 80,
   "id": "e1b77eae",
   "metadata": {},
   "outputs": [
    {
     "name": "stdout",
     "output_type": "stream",
     "text": [
      "Ki\n"
     ]
    }
   ],
   "source": [
    "print(z)"
   ]
  },
  {
   "cell_type": "code",
   "execution_count": 81,
   "id": "368e2d99",
   "metadata": {},
   "outputs": [
    {
     "data": {
      "text/plain": [
       "'Ajit'"
      ]
     },
     "execution_count": 81,
     "metadata": {},
     "output_type": "execute_result"
    }
   ],
   "source": [
    "y"
   ]
  },
  {
   "cell_type": "code",
   "execution_count": 82,
   "id": "29fd1ae4",
   "metadata": {},
   "outputs": [
    {
     "data": {
      "text/plain": [
       "'Keyuri'"
      ]
     },
     "execution_count": 82,
     "metadata": {},
     "output_type": "execute_result"
    }
   ],
   "source": [
    "x"
   ]
  },
  {
   "cell_type": "code",
   "execution_count": 83,
   "id": "46bf4ae8",
   "metadata": {},
   "outputs": [],
   "source": [
    "x = y = z = \"Keyuri Ajit Ki\""
   ]
  },
  {
   "cell_type": "code",
   "execution_count": 84,
   "id": "fe8ca72f",
   "metadata": {},
   "outputs": [
    {
     "name": "stdout",
     "output_type": "stream",
     "text": [
      "Keyuri Ajit Ki\n"
     ]
    }
   ],
   "source": [
    "print(x)"
   ]
  },
  {
   "cell_type": "code",
   "execution_count": 85,
   "id": "a8f3b597",
   "metadata": {},
   "outputs": [
    {
     "data": {
      "text/plain": [
       "'Keyuri Ajit Ki'"
      ]
     },
     "execution_count": 85,
     "metadata": {},
     "output_type": "execute_result"
    }
   ],
   "source": [
    "y"
   ]
  },
  {
   "cell_type": "code",
   "execution_count": 86,
   "id": "36f5a735",
   "metadata": {},
   "outputs": [],
   "source": [
    "listOfNames = ['Key', \"AJ\", \"Ki\"]"
   ]
  },
  {
   "cell_type": "code",
   "execution_count": 87,
   "id": "b541ebf7",
   "metadata": {},
   "outputs": [
    {
     "data": {
      "text/plain": [
       "list"
      ]
     },
     "execution_count": 87,
     "metadata": {},
     "output_type": "execute_result"
    }
   ],
   "source": [
    "type(listOfNames)"
   ]
  },
  {
   "cell_type": "code",
   "execution_count": 88,
   "id": "0571991c",
   "metadata": {},
   "outputs": [],
   "source": [
    "list_of_lastnames =[\"Deokar\", 'Palav']"
   ]
  },
  {
   "cell_type": "code",
   "execution_count": 89,
   "id": "c1bb73e8",
   "metadata": {},
   "outputs": [
    {
     "data": {
      "text/plain": [
       "['Deokar', 'Palav']"
      ]
     },
     "execution_count": 89,
     "metadata": {},
     "output_type": "execute_result"
    }
   ],
   "source": [
    "list_of_lastnames"
   ]
  },
  {
   "cell_type": "code",
   "execution_count": 90,
   "id": "f866e12f",
   "metadata": {},
   "outputs": [
    {
     "name": "stdout",
     "output_type": "stream",
     "text": [
      "['Key', 'AJ', 'Ki']\n"
     ]
    }
   ],
   "source": [
    "print(listOfNames)"
   ]
  },
  {
   "cell_type": "code",
   "execution_count": 91,
   "id": "0b3c3963",
   "metadata": {},
   "outputs": [],
   "source": [
    "name = \"Keyuri\" +'Deokar'"
   ]
  },
  {
   "cell_type": "code",
   "execution_count": 92,
   "id": "66c6cbfe",
   "metadata": {},
   "outputs": [
    {
     "data": {
      "text/plain": [
       "'KeyuriDeokar'"
      ]
     },
     "execution_count": 92,
     "metadata": {},
     "output_type": "execute_result"
    }
   ],
   "source": [
    "name"
   ]
  },
  {
   "cell_type": "code",
   "execution_count": 93,
   "id": "7262819b",
   "metadata": {},
   "outputs": [],
   "source": [
    "name = \"Keyuri\" +' Deokar' + ''' Ki'''"
   ]
  },
  {
   "cell_type": "code",
   "execution_count": 94,
   "id": "0c4085c9",
   "metadata": {},
   "outputs": [
    {
     "data": {
      "text/plain": [
       "'Keyuri Deokar Ki'"
      ]
     },
     "execution_count": 94,
     "metadata": {},
     "output_type": "execute_result"
    }
   ],
   "source": [
    "name"
   ]
  },
  {
   "cell_type": "code",
   "execution_count": 95,
   "id": "dfe08d26",
   "metadata": {},
   "outputs": [],
   "source": [
    "x = 2 + 4"
   ]
  },
  {
   "cell_type": "code",
   "execution_count": 96,
   "id": "8e8a1f9c",
   "metadata": {},
   "outputs": [
    {
     "name": "stdout",
     "output_type": "stream",
     "text": [
      "6\n"
     ]
    }
   ],
   "source": [
    "print(x)"
   ]
  },
  {
   "cell_type": "code",
   "execution_count": 97,
   "id": "a9a6b10d",
   "metadata": {},
   "outputs": [],
   "source": [
    "firstName = \"Keyuri Ashok\"\n",
    "lastName = \" Palav\""
   ]
  },
  {
   "cell_type": "code",
   "execution_count": 98,
   "id": "ea9644d7",
   "metadata": {},
   "outputs": [
    {
     "name": "stdout",
     "output_type": "stream",
     "text": [
      "Keyuri Ashok Palav\n"
     ]
    }
   ],
   "source": [
    "print(firstName+lastName)"
   ]
  },
  {
   "cell_type": "markdown",
   "id": "9c51e157",
   "metadata": {},
   "source": [
    "## Datatypes\n",
    "\n",
    "### Numeric\n",
    "\n",
    "* int\n",
    "* float\n",
    "* complex\n",
    "\n",
    "### Boolean\n",
    "\n",
    "* bool"
   ]
  },
  {
   "cell_type": "code",
   "execution_count": 99,
   "id": "acd7826c",
   "metadata": {},
   "outputs": [
    {
     "data": {
      "text/plain": [
       "int"
      ]
     },
     "execution_count": 99,
     "metadata": {},
     "output_type": "execute_result"
    }
   ],
   "source": [
    "type(11)"
   ]
  },
  {
   "cell_type": "code",
   "execution_count": 100,
   "id": "fa7c7abd",
   "metadata": {},
   "outputs": [
    {
     "data": {
      "text/plain": [
       "int"
      ]
     },
     "execution_count": 100,
     "metadata": {},
     "output_type": "execute_result"
    }
   ],
   "source": [
    "type(-66)"
   ]
  },
  {
   "cell_type": "code",
   "execution_count": 101,
   "id": "7395dae8",
   "metadata": {},
   "outputs": [
    {
     "data": {
      "text/plain": [
       "float"
      ]
     },
     "execution_count": 101,
     "metadata": {},
     "output_type": "execute_result"
    }
   ],
   "source": [
    "type(9.999)"
   ]
  },
  {
   "cell_type": "code",
   "execution_count": 102,
   "id": "1a3b48c1",
   "metadata": {},
   "outputs": [
    {
     "data": {
      "text/plain": [
       "complex"
      ]
     },
     "execution_count": 102,
     "metadata": {},
     "output_type": "execute_result"
    }
   ],
   "source": [
    "type(1 + 3j)"
   ]
  },
  {
   "cell_type": "code",
   "execution_count": 103,
   "id": "fd37ad1c",
   "metadata": {},
   "outputs": [
    {
     "data": {
      "text/plain": [
       "bool"
      ]
     },
     "execution_count": 103,
     "metadata": {},
     "output_type": "execute_result"
    }
   ],
   "source": [
    "type(True)"
   ]
  },
  {
   "cell_type": "code",
   "execution_count": 104,
   "id": "3b79496a",
   "metadata": {},
   "outputs": [
    {
     "data": {
      "text/plain": [
       "bool"
      ]
     },
     "execution_count": 104,
     "metadata": {},
     "output_type": "execute_result"
    }
   ],
   "source": [
    "type(True or False)"
   ]
  },
  {
   "cell_type": "code",
   "execution_count": 105,
   "id": "e590030b",
   "metadata": {},
   "outputs": [
    {
     "data": {
      "text/plain": [
       "True"
      ]
     },
     "execution_count": 105,
     "metadata": {},
     "output_type": "execute_result"
    }
   ],
   "source": [
    "True or False"
   ]
  },
  {
   "cell_type": "code",
   "execution_count": 106,
   "id": "cafa0af0",
   "metadata": {},
   "outputs": [
    {
     "data": {
      "text/plain": [
       "bool"
      ]
     },
     "execution_count": 106,
     "metadata": {},
     "output_type": "execute_result"
    }
   ],
   "source": [
    "type(9>6)"
   ]
  },
  {
   "cell_type": "markdown",
   "id": "7688cb43",
   "metadata": {},
   "source": [
    "### Sequence type data types\n",
    "\n",
    "* str (Strings)\n",
    "* list\n",
    "* tuples"
   ]
  },
  {
   "cell_type": "code",
   "execution_count": 107,
   "id": "354909e0",
   "metadata": {},
   "outputs": [
    {
     "data": {
      "text/plain": [
       "str"
      ]
     },
     "execution_count": 107,
     "metadata": {},
     "output_type": "execute_result"
    }
   ],
   "source": [
    "type(\"Key\")"
   ]
  },
  {
   "cell_type": "code",
   "execution_count": 108,
   "id": "ef3c8360",
   "metadata": {},
   "outputs": [
    {
     "data": {
      "text/plain": [
       "list"
      ]
     },
     "execution_count": 108,
     "metadata": {},
     "output_type": "execute_result"
    }
   ],
   "source": [
    "type([6,\"j\",3])"
   ]
  },
  {
   "cell_type": "code",
   "execution_count": 109,
   "id": "19e1cebd",
   "metadata": {},
   "outputs": [
    {
     "data": {
      "text/plain": [
       "tuple"
      ]
     },
     "execution_count": 109,
     "metadata": {},
     "output_type": "execute_result"
    }
   ],
   "source": [
    "type((7,9,0))"
   ]
  },
  {
   "cell_type": "code",
   "execution_count": 110,
   "id": "3eae5204",
   "metadata": {},
   "outputs": [
    {
     "data": {
      "text/plain": [
       "tuple"
      ]
     },
     "execution_count": 110,
     "metadata": {},
     "output_type": "execute_result"
    }
   ],
   "source": [
    "type(('key',\"k\", 6))"
   ]
  },
  {
   "cell_type": "code",
   "execution_count": 111,
   "id": "b267117a",
   "metadata": {},
   "outputs": [],
   "source": [
    "names_tuple = ('Key','Aj', 'Ki')"
   ]
  },
  {
   "cell_type": "code",
   "execution_count": 112,
   "id": "2be65e5b",
   "metadata": {},
   "outputs": [
    {
     "data": {
      "text/plain": [
       "tuple"
      ]
     },
     "execution_count": 112,
     "metadata": {},
     "output_type": "execute_result"
    }
   ],
   "source": [
    "type(names_tuple)"
   ]
  },
  {
   "cell_type": "code",
   "execution_count": 113,
   "id": "04df2a3c",
   "metadata": {},
   "outputs": [
    {
     "ename": "AttributeError",
     "evalue": "'tuple' object has no attribute 'append'",
     "output_type": "error",
     "traceback": [
      "\u001b[0;31m---------------------------------------------------------------------------\u001b[0m",
      "\u001b[0;31mAttributeError\u001b[0m                            Traceback (most recent call last)",
      "Cell \u001b[0;32mIn[113], line 1\u001b[0m\n\u001b[0;32m----> 1\u001b[0m \u001b[43mnames_tuple\u001b[49m\u001b[38;5;241;43m.\u001b[39;49m\u001b[43mappend\u001b[49m(\u001b[38;5;124m'\u001b[39m\u001b[38;5;124mW\u001b[39m\u001b[38;5;124m'\u001b[39m)\n",
      "\u001b[0;31mAttributeError\u001b[0m: 'tuple' object has no attribute 'append'"
     ]
    }
   ],
   "source": [
    "# names_tuple.append('W')"
   ]
  },
  {
   "cell_type": "code",
   "execution_count": null,
   "id": "52891677",
   "metadata": {},
   "outputs": [],
   "source": [
    "names_list =['Key','Aj', 'Ki']"
   ]
  },
  {
   "cell_type": "code",
   "execution_count": null,
   "id": "a6b3b30a",
   "metadata": {},
   "outputs": [],
   "source": [
    "names_list.append('family')"
   ]
  },
  {
   "cell_type": "code",
   "execution_count": null,
   "id": "8c084ab8",
   "metadata": {},
   "outputs": [],
   "source": [
    "names_list"
   ]
  },
  {
   "cell_type": "code",
   "execution_count": 115,
   "id": "174b7861",
   "metadata": {},
   "outputs": [
    {
     "data": {
      "text/plain": [
       "'\\nMultiline comment\\n'"
      ]
     },
     "execution_count": 115,
     "metadata": {},
     "output_type": "execute_result"
    }
   ],
   "source": [
    "\"\"\"\n",
    "Multiline comment\n",
    "\"\"\""
   ]
  },
  {
   "cell_type": "code",
   "execution_count": 116,
   "id": "c52845e9",
   "metadata": {},
   "outputs": [
    {
     "data": {
      "text/plain": [
       "'\\nhello world\\n'"
      ]
     },
     "execution_count": 116,
     "metadata": {},
     "output_type": "execute_result"
    }
   ],
   "source": [
    "'''\n",
    "hello world\n",
    "'''"
   ]
  },
  {
   "cell_type": "code",
   "execution_count": 118,
   "id": "fdee7e2b",
   "metadata": {},
   "outputs": [],
   "source": [
    "# indexing in Strings\n",
    "k = \"Strings can be indexed \""
   ]
  },
  {
   "cell_type": "code",
   "execution_count": 119,
   "id": "28b54837",
   "metadata": {},
   "outputs": [
    {
     "data": {
      "text/plain": [
       "str"
      ]
     },
     "execution_count": 119,
     "metadata": {},
     "output_type": "execute_result"
    }
   ],
   "source": [
    "type(k)"
   ]
  },
  {
   "cell_type": "code",
   "execution_count": 121,
   "id": "f6618294",
   "metadata": {},
   "outputs": [
    {
     "data": {
      "text/plain": [
       "'i'"
      ]
     },
     "execution_count": 121,
     "metadata": {},
     "output_type": "execute_result"
    }
   ],
   "source": [
    "k[-8]"
   ]
  },
  {
   "cell_type": "code",
   "execution_count": 122,
   "id": "69d753e4",
   "metadata": {},
   "outputs": [
    {
     "data": {
      "text/plain": [
       "'indexed '"
      ]
     },
     "execution_count": 122,
     "metadata": {},
     "output_type": "execute_result"
    }
   ],
   "source": [
    "k[-8:]"
   ]
  },
  {
   "cell_type": "code",
   "execution_count": 127,
   "id": "b231d776",
   "metadata": {},
   "outputs": [
    {
     "data": {
      "text/plain": [
       "'Strings can be indexed Strings can be indexed Strings can be indexed Strings can be indexed '"
      ]
     },
     "execution_count": 127,
     "metadata": {},
     "output_type": "execute_result"
    }
   ],
   "source": [
    "k * 4"
   ]
  },
  {
   "cell_type": "code",
   "execution_count": 125,
   "id": "6e867320",
   "metadata": {},
   "outputs": [
    {
     "data": {
      "text/plain": [
       "'Strings can be indexed Strings can be indexed '"
      ]
     },
     "execution_count": 125,
     "metadata": {},
     "output_type": "execute_result"
    }
   ],
   "source": [
    "k + k"
   ]
  },
  {
   "cell_type": "code",
   "execution_count": 128,
   "id": "75caa77d",
   "metadata": {},
   "outputs": [],
   "source": [
    "# Strings are one value , multiple alphanumeric \n",
    "# Lists - Multiple values, can be of different data types"
   ]
  },
  {
   "cell_type": "code",
   "execution_count": 129,
   "id": "c40d80e4",
   "metadata": {},
   "outputs": [],
   "source": [
    "data_analyst_skills =['SQL', 'Excel', 'R', 'Googlesheet', 'Tableau']"
   ]
  },
  {
   "cell_type": "code",
   "execution_count": 131,
   "id": "949c0295",
   "metadata": {},
   "outputs": [],
   "source": [
    "data_analyst_skills.append('Python')"
   ]
  },
  {
   "cell_type": "code",
   "execution_count": 132,
   "id": "24d421b8",
   "metadata": {},
   "outputs": [
    {
     "data": {
      "text/plain": [
       "['SQL', 'Excel', 'R', 'Googlesheet', 'Tableau', 'Python']"
      ]
     },
     "execution_count": 132,
     "metadata": {},
     "output_type": "execute_result"
    }
   ],
   "source": [
    "data_analyst_skills"
   ]
  },
  {
   "cell_type": "code",
   "execution_count": 133,
   "id": "eb0af93f",
   "metadata": {},
   "outputs": [],
   "source": [
    "data_analyst_skills.append('SAS')"
   ]
  },
  {
   "cell_type": "code",
   "execution_count": 134,
   "id": "a10674c7",
   "metadata": {},
   "outputs": [
    {
     "data": {
      "text/plain": [
       "['SQL', 'Excel', 'R', 'Googlesheet', 'Tableau', 'Python', 'SAS']"
      ]
     },
     "execution_count": 134,
     "metadata": {},
     "output_type": "execute_result"
    }
   ],
   "source": [
    "data_analyst_skills"
   ]
  },
  {
   "cell_type": "code",
   "execution_count": 135,
   "id": "5cacc2d6",
   "metadata": {},
   "outputs": [],
   "source": [
    "data_analyst_skills[2] = 'Googlesheet'"
   ]
  },
  {
   "cell_type": "code",
   "execution_count": 136,
   "id": "fb16fcd6",
   "metadata": {},
   "outputs": [],
   "source": [
    "data_analyst_skills[3] = 'R'"
   ]
  },
  {
   "cell_type": "code",
   "execution_count": 137,
   "id": "28507b99",
   "metadata": {},
   "outputs": [
    {
     "data": {
      "text/plain": [
       "['SQL', 'Excel', 'Googlesheet', 'R', 'Tableau', 'Python', 'SAS']"
      ]
     },
     "execution_count": 137,
     "metadata": {},
     "output_type": "execute_result"
    }
   ],
   "source": [
    "data_analyst_skills"
   ]
  },
  {
   "cell_type": "code",
   "execution_count": 138,
   "id": "0abf43d3",
   "metadata": {},
   "outputs": [],
   "source": [
    "#Nesting of Lists\n",
    "\n",
    "data_analyst_skills.append(['Numpy', 'Pandas'])"
   ]
  },
  {
   "cell_type": "code",
   "execution_count": 139,
   "id": "f44df156",
   "metadata": {},
   "outputs": [
    {
     "data": {
      "text/plain": [
       "['SQL',\n",
       " 'Excel',\n",
       " 'Googlesheet',\n",
       " 'R',\n",
       " 'Tableau',\n",
       " 'Python',\n",
       " 'SAS',\n",
       " ['Numpy', 'Pandas']]"
      ]
     },
     "execution_count": 139,
     "metadata": {},
     "output_type": "execute_result"
    }
   ],
   "source": [
    "data_analyst_skills"
   ]
  },
  {
   "cell_type": "code",
   "execution_count": 140,
   "id": "8b36af4e",
   "metadata": {},
   "outputs": [
    {
     "data": {
      "text/plain": [
       "list"
      ]
     },
     "execution_count": 140,
     "metadata": {},
     "output_type": "execute_result"
    }
   ],
   "source": [
    "type(data_analyst_skills)"
   ]
  },
  {
   "cell_type": "code",
   "execution_count": 141,
   "id": "52088368",
   "metadata": {},
   "outputs": [],
   "source": [
    "# tuples\n",
    "\n",
    "tuple_meals =('Poli Bhaji', 'Varan Bhat', 'Pesto Pasta')"
   ]
  },
  {
   "cell_type": "code",
   "execution_count": 143,
   "id": "e43de28d",
   "metadata": {},
   "outputs": [
    {
     "name": "stdout",
     "output_type": "stream",
     "text": [
      "('Poli Bhaji', 'Varan Bhat', 'Pesto Pasta')\n"
     ]
    }
   ],
   "source": [
    "print(tuple_meals)\n",
    "\n",
    "# tuples are immutable"
   ]
  },
  {
   "cell_type": "code",
   "execution_count": 144,
   "id": "76353b7d",
   "metadata": {},
   "outputs": [],
   "source": [
    "# Sets dont have any duplicates\n",
    "# not indexed\n",
    "# its unordered list\n",
    "# still can loop through set using for loop\n",
    "\n",
    "my_set ={1,2,2,3,3,3,6,9}"
   ]
  },
  {
   "cell_type": "code",
   "execution_count": 145,
   "id": "5e18032b",
   "metadata": {},
   "outputs": [
    {
     "data": {
      "text/plain": [
       "set"
      ]
     },
     "execution_count": 145,
     "metadata": {},
     "output_type": "execute_result"
    }
   ],
   "source": [
    "type(my_set)"
   ]
  },
  {
   "cell_type": "code",
   "execution_count": 146,
   "id": "a8939fa7",
   "metadata": {},
   "outputs": [
    {
     "name": "stdout",
     "output_type": "stream",
     "text": [
      "{1, 2, 3, 6, 9}\n"
     ]
    }
   ],
   "source": [
    "print(my_set) #unique calues only"
   ]
  },
  {
   "cell_type": "code",
   "execution_count": 147,
   "id": "41bb6c8b",
   "metadata": {},
   "outputs": [],
   "source": [
    "keys_count ={1,5,34,22,77,4}"
   ]
  },
  {
   "cell_type": "code",
   "execution_count": 148,
   "id": "7407eb0c",
   "metadata": {},
   "outputs": [],
   "source": [
    "ajs_count = {3,2,22,14,77,9}"
   ]
  },
  {
   "cell_type": "code",
   "execution_count": 149,
   "id": "5924380f",
   "metadata": {},
   "outputs": [
    {
     "data": {
      "text/plain": [
       "{1, 2, 3, 4, 5, 9, 14, 22, 34, 77}"
      ]
     },
     "execution_count": 149,
     "metadata": {},
     "output_type": "execute_result"
    }
   ],
   "source": [
    "keys_count | ajs_count"
   ]
  },
  {
   "cell_type": "code",
   "execution_count": 150,
   "id": "ecf03159",
   "metadata": {},
   "outputs": [
    {
     "data": {
      "text/plain": [
       "{22, 77}"
      ]
     },
     "execution_count": 150,
     "metadata": {},
     "output_type": "execute_result"
    }
   ],
   "source": [
    "keys_count & ajs_count"
   ]
  },
  {
   "cell_type": "code",
   "execution_count": 151,
   "id": "2342f3fe",
   "metadata": {},
   "outputs": [
    {
     "name": "stdout",
     "output_type": "stream",
     "text": [
      "{1, 34, 4, 5}\n"
     ]
    }
   ],
   "source": [
    "print(keys_count - ajs_count)"
   ]
  },
  {
   "cell_type": "code",
   "execution_count": 152,
   "id": "8fca2175",
   "metadata": {},
   "outputs": [
    {
     "name": "stdout",
     "output_type": "stream",
     "text": [
      "{9, 2, 3, 14}\n"
     ]
    }
   ],
   "source": [
    "print(ajs_count - keys_count)"
   ]
  },
  {
   "cell_type": "code",
   "execution_count": 153,
   "id": "93f34aae",
   "metadata": {},
   "outputs": [
    {
     "name": "stdout",
     "output_type": "stream",
     "text": [
      "{1, 2, 3, 4, 5, 9, 14, 34}\n"
     ]
    }
   ],
   "source": [
    "print(ajs_count ^ keys_count)"
   ]
  },
  {
   "cell_type": "code",
   "execution_count": 155,
   "id": "21e3a6b4",
   "metadata": {},
   "outputs": [],
   "source": [
    "# dictionaries : key value pair\n",
    "\n",
    "time_table = {\"mon\" : \"Python\", \"tue\" : \"SQL\", \"wed\" : \"GoogleSheet\", \"thu\" : \"Tableau\", \"fri\" : \"InterviewPrep\"}"
   ]
  },
  {
   "cell_type": "code",
   "execution_count": 157,
   "id": "32bd6ec1",
   "metadata": {},
   "outputs": [
    {
     "data": {
      "text/plain": [
       "'Tableau'"
      ]
     },
     "execution_count": 157,
     "metadata": {},
     "output_type": "execute_result"
    }
   ],
   "source": [
    "time_table[\"thu\"]"
   ]
  },
  {
   "cell_type": "code",
   "execution_count": 158,
   "id": "9a9177f0",
   "metadata": {},
   "outputs": [
    {
     "data": {
      "text/plain": [
       "dict"
      ]
     },
     "execution_count": 158,
     "metadata": {},
     "output_type": "execute_result"
    }
   ],
   "source": [
    "type(time_table)"
   ]
  },
  {
   "cell_type": "code",
   "execution_count": 159,
   "id": "201b923f",
   "metadata": {},
   "outputs": [
    {
     "data": {
      "text/plain": [
       "dict_keys(['mon', 'tue', 'wed', 'thu', 'fri'])"
      ]
     },
     "execution_count": 159,
     "metadata": {},
     "output_type": "execute_result"
    }
   ],
   "source": [
    "time_table.keys()"
   ]
  },
  {
   "cell_type": "code",
   "execution_count": 160,
   "id": "f99e342d",
   "metadata": {},
   "outputs": [
    {
     "data": {
      "text/plain": [
       "dict_values(['Python', 'SQL', 'GoogleSheet', 'Tableau', 'InterviewPrep'])"
      ]
     },
     "execution_count": 160,
     "metadata": {},
     "output_type": "execute_result"
    }
   ],
   "source": [
    "time_table.values()"
   ]
  },
  {
   "cell_type": "code",
   "execution_count": 161,
   "id": "7a500a06",
   "metadata": {},
   "outputs": [
    {
     "data": {
      "text/plain": [
       "dict_items([('mon', 'Python'), ('tue', 'SQL'), ('wed', 'GoogleSheet'), ('thu', 'Tableau'), ('fri', 'InterviewPrep')])"
      ]
     },
     "execution_count": 161,
     "metadata": {},
     "output_type": "execute_result"
    }
   ],
   "source": [
    "time_table.items()"
   ]
  },
  {
   "cell_type": "code",
   "execution_count": 162,
   "id": "30af2f2c",
   "metadata": {},
   "outputs": [],
   "source": [
    "time_table[\"thu\"] = 'SAS'"
   ]
  },
  {
   "cell_type": "code",
   "execution_count": 166,
   "id": "9b258f10",
   "metadata": {},
   "outputs": [
    {
     "data": {
      "text/plain": [
       "dict_items([('mon', 'Python'), ('tue', 'SQL'), ('wed', 'GoogleSheet'), ('thu', 'SAS'), ('fri', 'Tableau')])"
      ]
     },
     "execution_count": 166,
     "metadata": {},
     "output_type": "execute_result"
    }
   ],
   "source": [
    "time_table.items()"
   ]
  },
  {
   "cell_type": "code",
   "execution_count": 164,
   "id": "b152196a",
   "metadata": {},
   "outputs": [],
   "source": [
    "time_table[\"fri\"] = 'Tableau'"
   ]
  },
  {
   "cell_type": "code",
   "execution_count": 169,
   "id": "ef3800ce",
   "metadata": {},
   "outputs": [],
   "source": [
    "time_table.update({'sat':'Interview Prep'})"
   ]
  },
  {
   "cell_type": "code",
   "execution_count": 175,
   "id": "7758853f",
   "metadata": {},
   "outputs": [
    {
     "data": {
      "text/plain": [
       "dict_items([('mon', 'Python'), ('tue', 'SQL'), ('wed', 'GoogleSheet'), ('thu', 'SAS'), ('fri', 'Tableau'), ('sat', 'Interviews'), ('sun', 'Rest')])"
      ]
     },
     "execution_count": 175,
     "metadata": {},
     "output_type": "execute_result"
    }
   ],
   "source": [
    "time_table.items()"
   ]
  },
  {
   "cell_type": "code",
   "execution_count": 173,
   "id": "ce2bc7d9",
   "metadata": {},
   "outputs": [
    {
     "data": {
      "text/plain": [
       "dict"
      ]
     },
     "execution_count": 173,
     "metadata": {},
     "output_type": "execute_result"
    }
   ],
   "source": [
    "type(time_table)"
   ]
  },
  {
   "cell_type": "code",
   "execution_count": 174,
   "id": "557f5902",
   "metadata": {},
   "outputs": [],
   "source": [
    "time_table.update({'sat':'Interviews', 'sun' : \"Rest\"})"
   ]
  },
  {
   "cell_type": "code",
   "execution_count": 176,
   "id": "805206a4",
   "metadata": {},
   "outputs": [],
   "source": [
    "del time_table['sun']"
   ]
  },
  {
   "cell_type": "code",
   "execution_count": 177,
   "id": "2922168b",
   "metadata": {},
   "outputs": [
    {
     "data": {
      "text/plain": [
       "{'mon': 'Python',\n",
       " 'tue': 'SQL',\n",
       " 'wed': 'GoogleSheet',\n",
       " 'thu': 'SAS',\n",
       " 'fri': 'Tableau',\n",
       " 'sat': 'Interviews'}"
      ]
     },
     "execution_count": 177,
     "metadata": {},
     "output_type": "execute_result"
    }
   ],
   "source": [
    "time_table"
   ]
  },
  {
   "cell_type": "code",
   "execution_count": null,
   "id": "96acf2ed",
   "metadata": {},
   "outputs": [],
   "source": []
  }
 ],
 "metadata": {
  "kernelspec": {
   "display_name": "Python 3 (ipykernel)",
   "language": "python",
   "name": "python3"
  },
  "language_info": {
   "codemirror_mode": {
    "name": "ipython",
    "version": 3
   },
   "file_extension": ".py",
   "mimetype": "text/x-python",
   "name": "python",
   "nbconvert_exporter": "python",
   "pygments_lexer": "ipython3",
   "version": "3.10.9"
  }
 },
 "nbformat": 4,
 "nbformat_minor": 5
}
