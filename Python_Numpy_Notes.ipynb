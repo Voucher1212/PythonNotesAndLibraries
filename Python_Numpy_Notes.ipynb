{
 "cells": [
  {
   "cell_type": "markdown",
   "id": "1b28e9fc",
   "metadata": {},
   "source": [
    "# numpy \n",
    "\n",
    "#### numpy array can be either 1 dimensional (vector) or 2 dimensional(matrix)\n",
    "\n",
    "NumPy (Numerical Python) is a powerful library in Python for numerical computations. It provides support for large, multi-dimensional arrays and matrices, along with a collection of mathematical functions to operate on these arrays efficiently. \n"
   ]
  },
  {
   "cell_type": "code",
   "execution_count": 98,
   "id": "ca5b4944",
   "metadata": {},
   "outputs": [
    {
     "data": {
      "text/plain": [
       "array([12, 13, 14])"
      ]
     },
     "execution_count": 98,
     "metadata": {},
     "output_type": "execute_result"
    }
   ],
   "source": [
    "list = [12,13,14]\n",
    "\n",
    "import numpy as np\n",
    "# casting 1 dimensional list into NumPy array\n",
    "np.array(list)"
   ]
  },
  {
   "cell_type": "code",
   "execution_count": 99,
   "id": "ccc842a3",
   "metadata": {},
   "outputs": [],
   "source": [
    "my_matx = [[1,2,3],[3,4,5],[5,6,7]]"
   ]
  },
  {
   "cell_type": "code",
   "execution_count": 100,
   "id": "97059981",
   "metadata": {},
   "outputs": [
    {
     "data": {
      "text/plain": [
       "array([[1, 2, 3],\n",
       "       [3, 4, 5],\n",
       "       [5, 6, 7]])"
      ]
     },
     "execution_count": 100,
     "metadata": {},
     "output_type": "execute_result"
    }
   ],
   "source": [
    "# casting a list of list into numpy array to get a 2 dimensional matrix\n",
    "np.array(my_matx)"
   ]
  },
  {
   "cell_type": "markdown",
   "id": "7f4fe526",
   "metadata": {},
   "source": [
    "#### NumPy arrays are homogeneous, multi-dimensional collections of elements of the same data type.\n",
    "*  You can create arrays using various methods:"
   ]
  },
  {
   "cell_type": "code",
   "execution_count": 101,
   "id": "43e1d742",
   "metadata": {},
   "outputs": [],
   "source": [
    "# From a list\n",
    "arr1 = np.array([1, 2, 3, 4, 5])\n",
    "\n",
    "# Specifying data type\n",
    "arr2 = np.array([1, 2, 3, 4, 5], dtype=float)\n",
    "\n",
    "# Multi-dimensional array\n",
    "arr3 = np.array([[1, 2, 3], [4, 5, 6]])"
   ]
  },
  {
   "cell_type": "code",
   "execution_count": 102,
   "id": "18e4df56",
   "metadata": {},
   "outputs": [
    {
     "data": {
      "text/plain": [
       "array([1, 2, 3, 4, 5])"
      ]
     },
     "execution_count": 102,
     "metadata": {},
     "output_type": "execute_result"
    }
   ],
   "source": [
    "arr1"
   ]
  },
  {
   "cell_type": "code",
   "execution_count": 103,
   "id": "af863462",
   "metadata": {},
   "outputs": [
    {
     "data": {
      "text/plain": [
       "array([1., 2., 3., 4., 5.])"
      ]
     },
     "execution_count": 103,
     "metadata": {},
     "output_type": "execute_result"
    }
   ],
   "source": [
    "arr2"
   ]
  },
  {
   "cell_type": "code",
   "execution_count": 104,
   "id": "06639ac6",
   "metadata": {},
   "outputs": [
    {
     "data": {
      "text/plain": [
       "array([[1, 2, 3],\n",
       "       [4, 5, 6]])"
      ]
     },
     "execution_count": 104,
     "metadata": {},
     "output_type": "execute_result"
    }
   ],
   "source": [
    "arr3"
   ]
  },
  {
   "cell_type": "code",
   "execution_count": 105,
   "id": "05eee6d9",
   "metadata": {},
   "outputs": [
    {
     "name": "stdout",
     "output_type": "stream",
     "text": [
      "(5,)\n",
      "1\n",
      "2\n",
      "int64\n"
     ]
    }
   ],
   "source": [
    "# Shape of the array\n",
    "print(arr1.shape)  # Output: (5,)\n",
    "\n",
    "# Number of dimensions\n",
    "print(arr2.ndim)  # Output: 1\n",
    "print(arr3.ndim) \n",
    "# Data type\n",
    "print(arr3.dtype)  # Output: int64"
   ]
  },
  {
   "cell_type": "code",
   "execution_count": 106,
   "id": "1ff7409f",
   "metadata": {},
   "outputs": [
    {
     "data": {
      "text/plain": [
       "array([     0,  10000,  20000,  30000,  40000,  50000,  60000,  70000,\n",
       "        80000,  90000, 100000, 110000])"
      ]
     },
     "execution_count": 106,
     "metadata": {},
     "output_type": "execute_result"
    }
   ],
   "source": [
    "#using Numpy s generation method to create array faster and in a easier way\n",
    "\n",
    "np.arange(0,111110,10000)"
   ]
  },
  {
   "cell_type": "code",
   "execution_count": 107,
   "id": "f7bcd897",
   "metadata": {},
   "outputs": [
    {
     "data": {
      "text/plain": [
       "array([     0,      1,      2, ..., 111107, 111108, 111109])"
      ]
     },
     "execution_count": 107,
     "metadata": {},
     "output_type": "execute_result"
    }
   ],
   "source": [
    "np.arange(0,111110)"
   ]
  },
  {
   "cell_type": "code",
   "execution_count": 108,
   "id": "e909d0fc",
   "metadata": {},
   "outputs": [
    {
     "data": {
      "text/plain": [
       "array([ 0, 10, 20, 30, 40, 50, 60, 70, 80, 90])"
      ]
     },
     "execution_count": 108,
     "metadata": {},
     "output_type": "execute_result"
    }
   ],
   "source": [
    "np.arange(0,100,10)"
   ]
  },
  {
   "cell_type": "code",
   "execution_count": 109,
   "id": "77e792a7",
   "metadata": {},
   "outputs": [
    {
     "data": {
      "text/plain": [
       "array([0., 0., 0., 0., 0., 0.])"
      ]
     },
     "execution_count": 109,
     "metadata": {},
     "output_type": "execute_result"
    }
   ],
   "source": [
    "np.zeros(6)"
   ]
  },
  {
   "cell_type": "code",
   "execution_count": 110,
   "id": "d662b936",
   "metadata": {},
   "outputs": [
    {
     "data": {
      "text/plain": [
       "array([[0., 0., 0.],\n",
       "       [0., 0., 0.]])"
      ]
     },
     "execution_count": 110,
     "metadata": {},
     "output_type": "execute_result"
    }
   ],
   "source": [
    "np.zeros((2,3))"
   ]
  },
  {
   "cell_type": "code",
   "execution_count": 111,
   "id": "44972cd9",
   "metadata": {},
   "outputs": [
    {
     "data": {
      "text/plain": [
       "array([[0., 0.],\n",
       "       [0., 0.],\n",
       "       [0., 0.]])"
      ]
     },
     "execution_count": 111,
     "metadata": {},
     "output_type": "execute_result"
    }
   ],
   "source": [
    "np.zeros((3,2))"
   ]
  },
  {
   "cell_type": "code",
   "execution_count": 112,
   "id": "202dc137",
   "metadata": {},
   "outputs": [
    {
     "data": {
      "text/plain": [
       "array([1., 1., 1., 1., 1., 1.])"
      ]
     },
     "execution_count": 112,
     "metadata": {},
     "output_type": "execute_result"
    }
   ],
   "source": [
    "np.ones(6)"
   ]
  },
  {
   "cell_type": "code",
   "execution_count": 113,
   "id": "90479f6c",
   "metadata": {},
   "outputs": [
    {
     "data": {
      "text/plain": [
       "array([  0.        ,  11.11111111,  22.22222222,  33.33333333,\n",
       "        44.44444444,  55.55555556,  66.66666667,  77.77777778,\n",
       "        88.88888889, 100.        ])"
      ]
     },
     "execution_count": 113,
     "metadata": {},
     "output_type": "execute_result"
    }
   ],
   "source": [
    "#np.linspace() to create an array with values that are spaced linearly in a specified interval:\n",
    "\n",
    "np.linspace(0,100,10)"
   ]
  },
  {
   "cell_type": "code",
   "execution_count": 114,
   "id": "0f263194",
   "metadata": {},
   "outputs": [
    {
     "data": {
      "text/plain": [
       "array([ 0, 10, 20, 30, 40, 50, 60, 70, 80, 90])"
      ]
     },
     "execution_count": 114,
     "metadata": {},
     "output_type": "execute_result"
    }
   ],
   "source": [
    "# with arrange the thrid parameter is the step size\n",
    "np.arange(0,100,10)"
   ]
  },
  {
   "cell_type": "code",
   "execution_count": 115,
   "id": "f06e9cce",
   "metadata": {},
   "outputs": [
    {
     "data": {
      "text/plain": [
       "array([[1., 0., 0., 0.],\n",
       "       [0., 1., 0., 0.],\n",
       "       [0., 0., 1., 0.],\n",
       "       [0., 0., 0., 1.]])"
      ]
     },
     "execution_count": 115,
     "metadata": {},
     "output_type": "execute_result"
    }
   ],
   "source": [
    "# identify matrix\n",
    "np.eye(4)"
   ]
  },
  {
   "cell_type": "code",
   "execution_count": 116,
   "id": "b930ea58",
   "metadata": {},
   "outputs": [
    {
     "data": {
      "text/plain": [
       "array([0.57527906, 0.69140506, 0.18765414, 0.19132875, 0.71554738,\n",
       "       0.52433407, 0.31108404, 0.44496765, 0.96694326])"
      ]
     },
     "execution_count": 116,
     "metadata": {},
     "output_type": "execute_result"
    }
   ],
   "source": [
    "# Numpy has lots of ways to generate arrays of random numbers\n",
    "#And this is going to create an array of the given shape you pass in and it's going to populate it with\n",
    "#random samples from a uniform distribution over 0 to 1.\n",
    "np.random.rand(9)"
   ]
  },
  {
   "cell_type": "code",
   "execution_count": 117,
   "id": "23e6d735",
   "metadata": {},
   "outputs": [
    {
     "data": {
      "text/plain": [
       "array([[0.83520944, 0.99904146, 0.4679412 ],\n",
       "       [0.66080949, 0.56281261, 0.39262772],\n",
       "       [0.75330407, 0.02689356, 0.1850006 ],\n",
       "       [0.39892183, 0.8620586 , 0.25857633],\n",
       "       [0.62882539, 0.78378254, 0.36922443],\n",
       "       [0.60677249, 0.52120151, 0.44031832]])"
      ]
     },
     "execution_count": 117,
     "metadata": {},
     "output_type": "execute_result"
    }
   ],
   "source": [
    "np.random.rand(6,3)"
   ]
  },
  {
   "cell_type": "code",
   "execution_count": 118,
   "id": "30281dad",
   "metadata": {},
   "outputs": [
    {
     "data": {
      "text/plain": [
       "array([-0.27345129,  0.02437394, -0.65510074, -0.69017792, -0.44537982,\n",
       "       -0.53403676, -0.27220506, -0.6790787 , -0.87906397])"
      ]
     },
     "execution_count": 118,
     "metadata": {},
     "output_type": "execute_result"
    }
   ],
   "source": [
    "#to return a sample or many samples from the standard normal distribution or a Gaussian\n",
    "#centered around 0\n",
    "#try plotting it out to visualize\n",
    "np.random.randn(9)"
   ]
  },
  {
   "cell_type": "code",
   "execution_count": 119,
   "id": "f2bfea1b",
   "metadata": {},
   "outputs": [],
   "source": [
    "# to get a 2 dimensional matrix\n",
    "intarr= np.random.randn(6,3)"
   ]
  },
  {
   "cell_type": "code",
   "execution_count": 120,
   "id": "2314d2fd",
   "metadata": {},
   "outputs": [
    {
     "data": {
      "text/plain": [
       "array([[ 0.70162998, -0.24298786, -1.74031847],\n",
       "       [ 0.15784565, -1.07241402,  0.69475305],\n",
       "       [ 0.90729846, -0.25551101, -0.07034263],\n",
       "       [ 0.09717169, -1.13023472, -1.21612821],\n",
       "       [-1.44441516,  0.64636051,  0.21654919],\n",
       "       [ 0.06283839, -0.51904301, -0.16270576]])"
      ]
     },
     "execution_count": 120,
     "metadata": {},
     "output_type": "execute_result"
    }
   ],
   "source": [
    "intarr"
   ]
  },
  {
   "cell_type": "code",
   "execution_count": 121,
   "id": "489f8138",
   "metadata": {},
   "outputs": [
    {
     "data": {
      "text/plain": [
       "0"
      ]
     },
     "execution_count": 121,
     "metadata": {},
     "output_type": "execute_result"
    }
   ],
   "source": [
    "#randint returns random integer from low to high number\n",
    "#lowest inclusive and highest excluive\n",
    "\n",
    "np.random.randint(3)"
   ]
  },
  {
   "cell_type": "code",
   "execution_count": 122,
   "id": "7b313c16",
   "metadata": {},
   "outputs": [
    {
     "data": {
      "text/plain": [
       "79"
      ]
     },
     "execution_count": 122,
     "metadata": {},
     "output_type": "execute_result"
    }
   ],
   "source": [
    "np.random.randint(1,100)"
   ]
  },
  {
   "cell_type": "code",
   "execution_count": 123,
   "id": "b70a12b6",
   "metadata": {},
   "outputs": [],
   "source": [
    "#generate 4 values of random integers from 1 to 100\n",
    "newarray = np.random.randint(1,100,4)"
   ]
  },
  {
   "cell_type": "code",
   "execution_count": 124,
   "id": "ea2e4aae",
   "metadata": {},
   "outputs": [
    {
     "data": {
      "text/plain": [
       "array([46, 16, 17, 86])"
      ]
     },
     "execution_count": 124,
     "metadata": {},
     "output_type": "execute_result"
    }
   ],
   "source": [
    "newarray"
   ]
  },
  {
   "cell_type": "code",
   "execution_count": 125,
   "id": "2e64cab3",
   "metadata": {},
   "outputs": [],
   "source": [
    "arr = np.arange(25)"
   ]
  },
  {
   "cell_type": "code",
   "execution_count": 126,
   "id": "5f0d45f1",
   "metadata": {},
   "outputs": [
    {
     "data": {
      "text/plain": [
       "array([ 0,  1,  2,  3,  4,  5,  6,  7,  8,  9, 10, 11, 12, 13, 14, 15, 16,\n",
       "       17, 18, 19, 20, 21, 22, 23, 24])"
      ]
     },
     "execution_count": 126,
     "metadata": {},
     "output_type": "execute_result"
    }
   ],
   "source": [
    "arr"
   ]
  },
  {
   "cell_type": "code",
   "execution_count": 127,
   "id": "353a4c69",
   "metadata": {},
   "outputs": [
    {
     "data": {
      "text/plain": [
       "array([[ 0,  1,  2,  3,  4],\n",
       "       [ 5,  6,  7,  8,  9],\n",
       "       [10, 11, 12, 13, 14],\n",
       "       [15, 16, 17, 18, 19],\n",
       "       [20, 21, 22, 23, 24]])"
      ]
     },
     "execution_count": 127,
     "metadata": {},
     "output_type": "execute_result"
    }
   ],
   "source": [
    "# reshape array with new dimensions,\n",
    "# however the number of row times the number of columns should be equal to the total number of items in the array\n",
    "arr.reshape(5,5)"
   ]
  },
  {
   "cell_type": "code",
   "execution_count": 128,
   "id": "9a3413d9",
   "metadata": {},
   "outputs": [],
   "source": [
    "arr1 = np.arange(36)"
   ]
  },
  {
   "cell_type": "code",
   "execution_count": 129,
   "id": "770b6630",
   "metadata": {},
   "outputs": [
    {
     "data": {
      "text/plain": [
       "array([ 0,  1,  2,  3,  4,  5,  6,  7,  8,  9, 10, 11, 12, 13, 14, 15, 16,\n",
       "       17, 18, 19, 20, 21, 22, 23, 24, 25, 26, 27, 28, 29, 30, 31, 32, 33,\n",
       "       34, 35])"
      ]
     },
     "execution_count": 129,
     "metadata": {},
     "output_type": "execute_result"
    }
   ],
   "source": [
    "arr1"
   ]
  },
  {
   "cell_type": "code",
   "execution_count": 130,
   "id": "2813f545",
   "metadata": {},
   "outputs": [
    {
     "data": {
      "text/plain": [
       "array([[ 0,  1,  2,  3,  4,  5],\n",
       "       [ 6,  7,  8,  9, 10, 11],\n",
       "       [12, 13, 14, 15, 16, 17],\n",
       "       [18, 19, 20, 21, 22, 23],\n",
       "       [24, 25, 26, 27, 28, 29],\n",
       "       [30, 31, 32, 33, 34, 35]])"
      ]
     },
     "execution_count": 130,
     "metadata": {},
     "output_type": "execute_result"
    }
   ],
   "source": [
    "arr1.reshape(6,6)"
   ]
  },
  {
   "cell_type": "code",
   "execution_count": 131,
   "id": "4495c33e",
   "metadata": {},
   "outputs": [
    {
     "data": {
      "text/plain": [
       "array([[ 0,  1,  2,  3,  4,  5,  6,  7,  8],\n",
       "       [ 9, 10, 11, 12, 13, 14, 15, 16, 17],\n",
       "       [18, 19, 20, 21, 22, 23, 24, 25, 26],\n",
       "       [27, 28, 29, 30, 31, 32, 33, 34, 35]])"
      ]
     },
     "execution_count": 131,
     "metadata": {},
     "output_type": "execute_result"
    }
   ],
   "source": [
    "arr1.reshape(4,9)"
   ]
  },
  {
   "cell_type": "code",
   "execution_count": 132,
   "id": "a457d732",
   "metadata": {},
   "outputs": [
    {
     "data": {
      "text/plain": [
       "array([ 0,  1,  2,  3,  4,  5,  6,  7,  8,  9, 10, 11, 12, 13, 14, 15, 16,\n",
       "       17, 18, 19, 20, 21, 22, 23, 24, 25, 26, 27, 28, 29, 30, 31, 32, 33,\n",
       "       34, 35])"
      ]
     },
     "execution_count": 132,
     "metadata": {},
     "output_type": "execute_result"
    }
   ],
   "source": [
    "arr1"
   ]
  },
  {
   "cell_type": "code",
   "execution_count": 133,
   "id": "ccb39197",
   "metadata": {},
   "outputs": [
    {
     "data": {
      "text/plain": [
       "35"
      ]
     },
     "execution_count": 133,
     "metadata": {},
     "output_type": "execute_result"
    }
   ],
   "source": [
    "#return max value\n",
    "arr1.max()"
   ]
  },
  {
   "cell_type": "code",
   "execution_count": 134,
   "id": "4dd4d144",
   "metadata": {},
   "outputs": [
    {
     "data": {
      "text/plain": [
       "0"
      ]
     },
     "execution_count": 134,
     "metadata": {},
     "output_type": "execute_result"
    }
   ],
   "source": [
    "#return min value\n",
    "arr1.min()"
   ]
  },
  {
   "cell_type": "code",
   "execution_count": 135,
   "id": "1731800b",
   "metadata": {},
   "outputs": [
    {
     "data": {
      "text/plain": [
       "3"
      ]
     },
     "execution_count": 135,
     "metadata": {},
     "output_type": "execute_result"
    }
   ],
   "source": [
    "# argmax gives the location of the max value\n",
    "newarray.argmax()"
   ]
  },
  {
   "cell_type": "code",
   "execution_count": 136,
   "id": "3098277d",
   "metadata": {},
   "outputs": [
    {
     "data": {
      "text/plain": [
       "1"
      ]
     },
     "execution_count": 136,
     "metadata": {},
     "output_type": "execute_result"
    }
   ],
   "source": [
    "# argmin gives the location of the max value\n",
    "\n",
    "newarray.argmin()"
   ]
  },
  {
   "cell_type": "code",
   "execution_count": 137,
   "id": "357250bf",
   "metadata": {},
   "outputs": [
    {
     "data": {
      "text/plain": [
       "array([46, 16, 17, 86])"
      ]
     },
     "execution_count": 137,
     "metadata": {},
     "output_type": "execute_result"
    }
   ],
   "source": [
    "newarray"
   ]
  },
  {
   "cell_type": "code",
   "execution_count": 138,
   "id": "1c060e0b",
   "metadata": {},
   "outputs": [
    {
     "data": {
      "text/plain": [
       "(4,)"
      ]
     },
     "execution_count": 138,
     "metadata": {},
     "output_type": "execute_result"
    }
   ],
   "source": [
    "# shape attribute (not a function)\n",
    "newarray.shape"
   ]
  },
  {
   "cell_type": "code",
   "execution_count": 139,
   "id": "67d8b6b5",
   "metadata": {},
   "outputs": [],
   "source": [
    "newarray = newarray.reshape(2,2)"
   ]
  },
  {
   "cell_type": "code",
   "execution_count": 140,
   "id": "74909a6c",
   "metadata": {
    "scrolled": true
   },
   "outputs": [
    {
     "data": {
      "text/plain": [
       "array([[46, 16],\n",
       "       [17, 86]])"
      ]
     },
     "execution_count": 140,
     "metadata": {},
     "output_type": "execute_result"
    }
   ],
   "source": [
    "newarray"
   ]
  },
  {
   "cell_type": "code",
   "execution_count": 141,
   "id": "7d59470c",
   "metadata": {},
   "outputs": [
    {
     "data": {
      "text/plain": [
       "(2, 2)"
      ]
     },
     "execution_count": 141,
     "metadata": {},
     "output_type": "execute_result"
    }
   ],
   "source": [
    "newarray.shape"
   ]
  },
  {
   "cell_type": "code",
   "execution_count": 142,
   "id": "db8164c6",
   "metadata": {},
   "outputs": [
    {
     "data": {
      "text/plain": [
       "dtype('int64')"
      ]
     },
     "execution_count": 142,
     "metadata": {},
     "output_type": "execute_result"
    }
   ],
   "source": [
    "# dtype attribute not a method\n",
    "newarray.dtype"
   ]
  },
  {
   "cell_type": "code",
   "execution_count": 143,
   "id": "da932338",
   "metadata": {},
   "outputs": [
    {
     "data": {
      "text/plain": [
       "dtype('float64')"
      ]
     },
     "execution_count": 143,
     "metadata": {},
     "output_type": "execute_result"
    }
   ],
   "source": [
    "intarr.dtype"
   ]
  },
  {
   "cell_type": "code",
   "execution_count": 144,
   "id": "d704beff",
   "metadata": {},
   "outputs": [],
   "source": [
    "from numpy.random import randint"
   ]
  },
  {
   "cell_type": "code",
   "execution_count": 145,
   "id": "ca5ef7b1",
   "metadata": {},
   "outputs": [
    {
     "data": {
      "text/plain": [
       "4"
      ]
     },
     "execution_count": 145,
     "metadata": {},
     "output_type": "execute_result"
    }
   ],
   "source": [
    "randint (2,7)"
   ]
  },
  {
   "cell_type": "markdown",
   "id": "149f0746",
   "metadata": {},
   "source": [
    "## Indexing in Numpy\n",
    "\n",
    "#### just like list in python"
   ]
  },
  {
   "cell_type": "code",
   "execution_count": 146,
   "id": "7c30efec",
   "metadata": {},
   "outputs": [],
   "source": [
    "ar = np.arange(0,10)"
   ]
  },
  {
   "cell_type": "code",
   "execution_count": 147,
   "id": "494a7ac6",
   "metadata": {},
   "outputs": [
    {
     "data": {
      "text/plain": [
       "array([0, 1, 2, 3, 4, 5, 6, 7, 8, 9])"
      ]
     },
     "execution_count": 147,
     "metadata": {},
     "output_type": "execute_result"
    }
   ],
   "source": [
    "ar"
   ]
  },
  {
   "cell_type": "code",
   "execution_count": 148,
   "id": "b9ab6060",
   "metadata": {},
   "outputs": [
    {
     "data": {
      "text/plain": [
       "6"
      ]
     },
     "execution_count": 148,
     "metadata": {},
     "output_type": "execute_result"
    }
   ],
   "source": [
    "#Simplest way to pick out one or some of the elements of an array looks a lot like indexing from a python list.\n",
    "#using brackets and slice notation\n",
    "ar[6]"
   ]
  },
  {
   "cell_type": "code",
   "execution_count": 149,
   "id": "3116c86b",
   "metadata": {},
   "outputs": [
    {
     "data": {
      "text/plain": [
       "array([0, 1, 2, 3, 4])"
      ]
     },
     "execution_count": 149,
     "metadata": {},
     "output_type": "execute_result"
    }
   ],
   "source": [
    "ar[:5]"
   ]
  },
  {
   "cell_type": "markdown",
   "id": "15a4c3ac",
   "metadata": {},
   "source": [
    "#### Slice notation"
   ]
  },
  {
   "cell_type": "code",
   "execution_count": 150,
   "id": "7349760d",
   "metadata": {},
   "outputs": [
    {
     "data": {
      "text/plain": [
       "array([0, 1, 2, 3, 4])"
      ]
     },
     "execution_count": 150,
     "metadata": {},
     "output_type": "execute_result"
    }
   ],
   "source": [
    "ar[0:5]"
   ]
  },
  {
   "cell_type": "code",
   "execution_count": 151,
   "id": "88d0a20f",
   "metadata": {},
   "outputs": [
    {
     "data": {
      "text/plain": [
       "array([5, 6, 7, 8, 9])"
      ]
     },
     "execution_count": 151,
     "metadata": {},
     "output_type": "execute_result"
    }
   ],
   "source": [
    "ar[5:]"
   ]
  },
  {
   "cell_type": "code",
   "execution_count": 152,
   "id": "f29dffeb",
   "metadata": {},
   "outputs": [
    {
     "data": {
      "text/plain": [
       "array([5, 6])"
      ]
     },
     "execution_count": 152,
     "metadata": {},
     "output_type": "execute_result"
    }
   ],
   "source": [
    "ar[5:7]"
   ]
  },
  {
   "cell_type": "markdown",
   "id": "d7b77bc0",
   "metadata": {},
   "source": [
    "### Numpy arrays differ from normal python list because of their ability to broadcast"
   ]
  },
  {
   "cell_type": "code",
   "execution_count": 153,
   "id": "43d24024",
   "metadata": {},
   "outputs": [],
   "source": [
    "ar[0:5] = 11"
   ]
  },
  {
   "cell_type": "code",
   "execution_count": 154,
   "id": "4a86e1d9",
   "metadata": {},
   "outputs": [
    {
     "data": {
      "text/plain": [
       "array([11, 11, 11, 11, 11,  5,  6,  7,  8,  9])"
      ]
     },
     "execution_count": 154,
     "metadata": {},
     "output_type": "execute_result"
    }
   ],
   "source": [
    "ar"
   ]
  },
  {
   "cell_type": "code",
   "execution_count": 155,
   "id": "6cc57303",
   "metadata": {},
   "outputs": [],
   "source": [
    "slice_of_array = ar[0:5]"
   ]
  },
  {
   "cell_type": "code",
   "execution_count": 156,
   "id": "985d4930",
   "metadata": {},
   "outputs": [
    {
     "data": {
      "text/plain": [
       "array([11, 11, 11, 11, 11])"
      ]
     },
     "execution_count": 156,
     "metadata": {},
     "output_type": "execute_result"
    }
   ],
   "source": [
    "slice_of_array"
   ]
  },
  {
   "cell_type": "code",
   "execution_count": 157,
   "id": "1f312a5f",
   "metadata": {},
   "outputs": [],
   "source": [
    "slice_of_array[:] = 22"
   ]
  },
  {
   "cell_type": "code",
   "execution_count": 158,
   "id": "689afa37",
   "metadata": {},
   "outputs": [
    {
     "data": {
      "text/plain": [
       "array([22, 22, 22, 22, 22])"
      ]
     },
     "execution_count": 158,
     "metadata": {},
     "output_type": "execute_result"
    }
   ],
   "source": [
    "slice_of_array"
   ]
  },
  {
   "cell_type": "code",
   "execution_count": 159,
   "id": "871a33ec",
   "metadata": {},
   "outputs": [
    {
     "data": {
      "text/plain": [
       "array([22, 22, 22, 22, 22,  5,  6,  7,  8,  9])"
      ]
     },
     "execution_count": 159,
     "metadata": {},
     "output_type": "execute_result"
    }
   ],
   "source": [
    "ar"
   ]
  },
  {
   "cell_type": "code",
   "execution_count": 160,
   "id": "002b530a",
   "metadata": {},
   "outputs": [],
   "source": [
    "copy_of_array = ar.copy()"
   ]
  },
  {
   "cell_type": "code",
   "execution_count": 161,
   "id": "41d60c4c",
   "metadata": {},
   "outputs": [
    {
     "data": {
      "text/plain": [
       "array([22, 22, 22, 22, 22,  5,  6,  7,  8,  9])"
      ]
     },
     "execution_count": 161,
     "metadata": {},
     "output_type": "execute_result"
    }
   ],
   "source": [
    "copy_of_array"
   ]
  },
  {
   "cell_type": "code",
   "execution_count": 162,
   "id": "94fc00bf",
   "metadata": {},
   "outputs": [],
   "source": [
    "copy_of_array[:] = 100"
   ]
  },
  {
   "cell_type": "code",
   "execution_count": 163,
   "id": "eb084f10",
   "metadata": {},
   "outputs": [
    {
     "data": {
      "text/plain": [
       "array([100, 100, 100, 100, 100, 100, 100, 100, 100, 100])"
      ]
     },
     "execution_count": 163,
     "metadata": {},
     "output_type": "execute_result"
    }
   ],
   "source": [
    "copy_of_array"
   ]
  },
  {
   "cell_type": "code",
   "execution_count": 164,
   "id": "e2a8b667",
   "metadata": {},
   "outputs": [
    {
     "data": {
      "text/plain": [
       "array([22, 22, 22, 22, 22,  5,  6,  7,  8,  9])"
      ]
     },
     "execution_count": 164,
     "metadata": {},
     "output_type": "execute_result"
    }
   ],
   "source": [
    "ar"
   ]
  },
  {
   "cell_type": "markdown",
   "id": "23122b1c",
   "metadata": {},
   "source": [
    "## indexing in matrix"
   ]
  },
  {
   "cell_type": "code",
   "execution_count": 165,
   "id": "8c154dc4",
   "metadata": {},
   "outputs": [],
   "source": [
    "arr_2d = np.array([[1,2,3],[4,5,6],[7,8,9]])"
   ]
  },
  {
   "cell_type": "code",
   "execution_count": 166,
   "id": "a9081a6d",
   "metadata": {},
   "outputs": [
    {
     "data": {
      "text/plain": [
       "array([[1, 2, 3],\n",
       "       [4, 5, 6],\n",
       "       [7, 8, 9]])"
      ]
     },
     "execution_count": 166,
     "metadata": {},
     "output_type": "execute_result"
    }
   ],
   "source": [
    "arr_2d"
   ]
  },
  {
   "cell_type": "code",
   "execution_count": 167,
   "id": "a61098e3",
   "metadata": {},
   "outputs": [
    {
     "data": {
      "text/plain": [
       "8"
      ]
     },
     "execution_count": 167,
     "metadata": {},
     "output_type": "execute_result"
    }
   ],
   "source": [
    "#grabbing elements from 2D array\n",
    "\n",
    "arr_2d[2][1]"
   ]
  },
  {
   "cell_type": "code",
   "execution_count": 168,
   "id": "ac46eb6a",
   "metadata": {},
   "outputs": [
    {
     "data": {
      "text/plain": [
       "8"
      ]
     },
     "execution_count": 168,
     "metadata": {},
     "output_type": "execute_result"
    }
   ],
   "source": [
    "arr_2d[2,1]"
   ]
  },
  {
   "cell_type": "code",
   "execution_count": 169,
   "id": "b6f2c050",
   "metadata": {},
   "outputs": [
    {
     "data": {
      "text/plain": [
       "array([1, 2, 3])"
      ]
     },
     "execution_count": 169,
     "metadata": {},
     "output_type": "execute_result"
    }
   ],
   "source": [
    "arr_2d[0]"
   ]
  },
  {
   "cell_type": "code",
   "execution_count": 170,
   "id": "5c560024",
   "metadata": {},
   "outputs": [
    {
     "data": {
      "text/plain": [
       "array([[1, 2],\n",
       "       [4, 5]])"
      ]
     },
     "execution_count": 170,
     "metadata": {},
     "output_type": "execute_result"
    }
   ],
   "source": [
    "arr_2d[:2,:2]"
   ]
  },
  {
   "cell_type": "code",
   "execution_count": 171,
   "id": "1abb9b66",
   "metadata": {},
   "outputs": [
    {
     "data": {
      "text/plain": [
       "array([[9]])"
      ]
     },
     "execution_count": 171,
     "metadata": {},
     "output_type": "execute_result"
    }
   ],
   "source": [
    "arr_2d[2:,2:]"
   ]
  },
  {
   "cell_type": "code",
   "execution_count": 172,
   "id": "fed87a19",
   "metadata": {},
   "outputs": [
    {
     "data": {
      "text/plain": [
       "array([[5, 6],\n",
       "       [8, 9]])"
      ]
     },
     "execution_count": 172,
     "metadata": {},
     "output_type": "execute_result"
    }
   ],
   "source": [
    "arr_2d[1:,1:]"
   ]
  },
  {
   "cell_type": "code",
   "execution_count": 173,
   "id": "374844ce",
   "metadata": {},
   "outputs": [
    {
     "data": {
      "text/plain": [
       "array([[1, 2, 3],\n",
       "       [4, 5, 6],\n",
       "       [7, 8, 9]])"
      ]
     },
     "execution_count": 173,
     "metadata": {},
     "output_type": "execute_result"
    }
   ],
   "source": [
    "arr_2d"
   ]
  },
  {
   "cell_type": "code",
   "execution_count": 174,
   "id": "9a706d95",
   "metadata": {},
   "outputs": [
    {
     "data": {
      "text/plain": [
       "array([[4, 5, 6],\n",
       "       [7, 8, 9]])"
      ]
     },
     "execution_count": 174,
     "metadata": {},
     "output_type": "execute_result"
    }
   ],
   "source": [
    "arr_2d[1:,0:]"
   ]
  },
  {
   "cell_type": "markdown",
   "id": "3f83c8d2",
   "metadata": {},
   "source": [
    "### conditinal selection"
   ]
  },
  {
   "cell_type": "code",
   "execution_count": 175,
   "id": "ab6c8635",
   "metadata": {},
   "outputs": [],
   "source": [
    "\n",
    "arr = np.arange(0,10)"
   ]
  },
  {
   "cell_type": "code",
   "execution_count": 176,
   "id": "3e4fe140",
   "metadata": {},
   "outputs": [
    {
     "data": {
      "text/plain": [
       "array([0, 1, 2, 3, 4, 5, 6, 7, 8, 9])"
      ]
     },
     "execution_count": 176,
     "metadata": {},
     "output_type": "execute_result"
    }
   ],
   "source": [
    "arr"
   ]
  },
  {
   "cell_type": "code",
   "execution_count": 177,
   "id": "3bc7a8dc",
   "metadata": {},
   "outputs": [],
   "source": [
    "bool_arr = arr >4"
   ]
  },
  {
   "cell_type": "code",
   "execution_count": 178,
   "id": "7db6292c",
   "metadata": {},
   "outputs": [
    {
     "data": {
      "text/plain": [
       "array([False, False, False, False, False,  True,  True,  True,  True,\n",
       "        True])"
      ]
     },
     "execution_count": 178,
     "metadata": {},
     "output_type": "execute_result"
    }
   ],
   "source": [
    "bool_arr"
   ]
  },
  {
   "cell_type": "code",
   "execution_count": 179,
   "id": "123b67e8",
   "metadata": {},
   "outputs": [
    {
     "data": {
      "text/plain": [
       "array([5, 6, 7, 8, 9])"
      ]
     },
     "execution_count": 179,
     "metadata": {},
     "output_type": "execute_result"
    }
   ],
   "source": [
    "arr[bool_arr]"
   ]
  },
  {
   "cell_type": "code",
   "execution_count": 180,
   "id": "e79d0303",
   "metadata": {},
   "outputs": [
    {
     "data": {
      "text/plain": [
       "array([6, 7, 8, 9])"
      ]
     },
     "execution_count": 180,
     "metadata": {},
     "output_type": "execute_result"
    }
   ],
   "source": [
    "arr[arr>5]"
   ]
  },
  {
   "cell_type": "code",
   "execution_count": 181,
   "id": "d58c91e8",
   "metadata": {},
   "outputs": [
    {
     "data": {
      "text/plain": [
       "array([0, 1])"
      ]
     },
     "execution_count": 181,
     "metadata": {},
     "output_type": "execute_result"
    }
   ],
   "source": [
    "arr[arr<2]"
   ]
  },
  {
   "cell_type": "code",
   "execution_count": 182,
   "id": "0706c3ab",
   "metadata": {},
   "outputs": [],
   "source": [
    "arr_2d = np.arange(50).reshape(5,10)"
   ]
  },
  {
   "cell_type": "code",
   "execution_count": 183,
   "id": "b2333878",
   "metadata": {},
   "outputs": [
    {
     "data": {
      "text/plain": [
       "array([[ 0,  1,  2,  3,  4,  5,  6,  7,  8,  9],\n",
       "       [10, 11, 12, 13, 14, 15, 16, 17, 18, 19],\n",
       "       [20, 21, 22, 23, 24, 25, 26, 27, 28, 29],\n",
       "       [30, 31, 32, 33, 34, 35, 36, 37, 38, 39],\n",
       "       [40, 41, 42, 43, 44, 45, 46, 47, 48, 49]])"
      ]
     },
     "execution_count": 183,
     "metadata": {},
     "output_type": "execute_result"
    }
   ],
   "source": [
    "arr_2d"
   ]
  },
  {
   "cell_type": "code",
   "execution_count": 184,
   "id": "7ff4ae23",
   "metadata": {},
   "outputs": [
    {
     "data": {
      "text/plain": [
       "array([[10, 11, 12, 13, 14, 15, 16, 17, 18, 19],\n",
       "       [20, 21, 22, 23, 24, 25, 26, 27, 28, 29]])"
      ]
     },
     "execution_count": 184,
     "metadata": {},
     "output_type": "execute_result"
    }
   ],
   "source": [
    "arr_2d[1:3]"
   ]
  },
  {
   "cell_type": "code",
   "execution_count": 185,
   "id": "fe09f699",
   "metadata": {},
   "outputs": [
    {
     "data": {
      "text/plain": [
       "array([[13, 14],\n",
       "       [23, 24]])"
      ]
     },
     "execution_count": 185,
     "metadata": {},
     "output_type": "execute_result"
    }
   ],
   "source": [
    "arr_2d[1:3,3:5]"
   ]
  },
  {
   "cell_type": "markdown",
   "id": "71473310",
   "metadata": {},
   "source": [
    "## Array operations\n",
    "\n",
    "* Array with Array\n",
    "* Array with Scalars\n",
    "* Universal Array Functions"
   ]
  },
  {
   "cell_type": "code",
   "execution_count": 186,
   "id": "4134c6ef",
   "metadata": {},
   "outputs": [],
   "source": [
    "ary_op = np.arange(0,10)"
   ]
  },
  {
   "cell_type": "code",
   "execution_count": 187,
   "id": "ce6dc9f2",
   "metadata": {},
   "outputs": [
    {
     "data": {
      "text/plain": [
       "array([0, 1, 2, 3, 4, 5, 6, 7, 8, 9])"
      ]
     },
     "execution_count": 187,
     "metadata": {},
     "output_type": "execute_result"
    }
   ],
   "source": [
    "ary_op"
   ]
  },
  {
   "cell_type": "code",
   "execution_count": 188,
   "id": "f6848b95",
   "metadata": {},
   "outputs": [],
   "source": [
    "# array with scalar operation\n",
    "ary_op = ary_op ** 2"
   ]
  },
  {
   "cell_type": "code",
   "execution_count": 189,
   "id": "89e229cb",
   "metadata": {},
   "outputs": [
    {
     "data": {
      "text/plain": [
       "array([ 0,  1,  4,  9, 16, 25, 36, 49, 64, 81])"
      ]
     },
     "execution_count": 189,
     "metadata": {},
     "output_type": "execute_result"
    }
   ],
   "source": [
    "ary_op"
   ]
  },
  {
   "cell_type": "code",
   "execution_count": 190,
   "id": "e734fcab",
   "metadata": {},
   "outputs": [
    {
     "data": {
      "text/plain": [
       "array([  0,   2,   8,  18,  32,  50,  72,  98, 128, 162])"
      ]
     },
     "execution_count": 190,
     "metadata": {},
     "output_type": "execute_result"
    }
   ],
   "source": [
    "# array with array operations\n",
    "ary_op+ary_op"
   ]
  },
  {
   "cell_type": "code",
   "execution_count": 191,
   "id": "19badb92",
   "metadata": {},
   "outputs": [
    {
     "data": {
      "text/plain": [
       "array([0, 0, 0, 0, 0, 0, 0, 0, 0, 0])"
      ]
     },
     "execution_count": 191,
     "metadata": {},
     "output_type": "execute_result"
    }
   ],
   "source": [
    "ary_op-ary_op"
   ]
  },
  {
   "cell_type": "code",
   "execution_count": 192,
   "id": "a2dd210a",
   "metadata": {},
   "outputs": [
    {
     "data": {
      "text/plain": [
       "array([ 0,  1,  4,  9, 16, 25, 36, 49, 64, 81])"
      ]
     },
     "execution_count": 192,
     "metadata": {},
     "output_type": "execute_result"
    }
   ],
   "source": [
    "ary_op"
   ]
  },
  {
   "cell_type": "code",
   "execution_count": 193,
   "id": "10cf7e65",
   "metadata": {},
   "outputs": [
    {
     "name": "stderr",
     "output_type": "stream",
     "text": [
      "/var/folders/jw/y0jbb83x57l04gj0jvqk3qm80000gn/T/ipykernel_57562/2427033389.py:1: RuntimeWarning: invalid value encountered in divide\n",
      "  ary_op/ary_op\n"
     ]
    },
    {
     "data": {
      "text/plain": [
       "array([nan,  1.,  1.,  1.,  1.,  1.,  1.,  1.,  1.,  1.])"
      ]
     },
     "execution_count": 193,
     "metadata": {},
     "output_type": "execute_result"
    }
   ],
   "source": [
    "ary_op/ary_op"
   ]
  },
  {
   "cell_type": "code",
   "execution_count": 194,
   "id": "a676a4b0",
   "metadata": {},
   "outputs": [
    {
     "ename": "ZeroDivisionError",
     "evalue": "division by zero",
     "output_type": "error",
     "traceback": [
      "\u001b[0;31m---------------------------------------------------------------------------\u001b[0m",
      "\u001b[0;31mZeroDivisionError\u001b[0m                         Traceback (most recent call last)",
      "Cell \u001b[0;32mIn[194], line 1\u001b[0m\n\u001b[0;32m----> 1\u001b[0m \u001b[38;5;241;43m1\u001b[39;49m\u001b[38;5;241;43m/\u001b[39;49m\u001b[38;5;241;43m0\u001b[39;49m\n",
      "\u001b[0;31mZeroDivisionError\u001b[0m: division by zero"
     ]
    }
   ],
   "source": [
    "1/0"
   ]
  },
  {
   "cell_type": "code",
   "execution_count": null,
   "id": "0232dcae",
   "metadata": {},
   "outputs": [],
   "source": [
    "1/ary_op"
   ]
  },
  {
   "cell_type": "markdown",
   "id": "0013aa05",
   "metadata": {},
   "source": [
    "### Universal operations"
   ]
  },
  {
   "cell_type": "code",
   "execution_count": null,
   "id": "1d4d10a0",
   "metadata": {},
   "outputs": [],
   "source": [
    "np.sqrt(ary_op)"
   ]
  },
  {
   "cell_type": "code",
   "execution_count": null,
   "id": "c97bc3d2",
   "metadata": {},
   "outputs": [],
   "source": [
    "np.exp(ary_op)"
   ]
  },
  {
   "cell_type": "code",
   "execution_count": null,
   "id": "09899893",
   "metadata": {},
   "outputs": [],
   "source": [
    "ary_op.dtype\n"
   ]
  },
  {
   "cell_type": "code",
   "execution_count": null,
   "id": "da746550",
   "metadata": {},
   "outputs": [],
   "source": [
    "np.max(ary_op)"
   ]
  },
  {
   "cell_type": "code",
   "execution_count": null,
   "id": "4cb3ec75",
   "metadata": {},
   "outputs": [],
   "source": [
    "np.sin(ary_op)"
   ]
  },
  {
   "cell_type": "code",
   "execution_count": null,
   "id": "21ea67fd",
   "metadata": {},
   "outputs": [],
   "source": []
  }
 ],
 "metadata": {
  "kernelspec": {
   "display_name": "Python 3 (ipykernel)",
   "language": "python",
   "name": "python3"
  },
  "language_info": {
   "codemirror_mode": {
    "name": "ipython",
    "version": 3
   },
   "file_extension": ".py",
   "mimetype": "text/x-python",
   "name": "python",
   "nbconvert_exporter": "python",
   "pygments_lexer": "ipython3",
   "version": "3.10.9"
  }
 },
 "nbformat": 4,
 "nbformat_minor": 5
}
